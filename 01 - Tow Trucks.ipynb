{
 "cells": [
  {
   "cell_type": "markdown",
   "metadata": {},
   "source": [
    "# Texas Tow Trucks\n",
    "\n",
    "We're going to scrape some [tow trucks in Texas](https://www.tdlr.texas.gov/tools_search/)."
   ]
  },
  {
   "cell_type": "markdown",
   "metadata": {},
   "source": [
    "## Import your imports"
   ]
  },
  {
   "cell_type": "code",
   "execution_count": 2,
   "metadata": {},
   "outputs": [],
   "source": [
    "from selenium import webdriver\n",
    "from selenium.webdriver.common.keys import Keys\n",
    "from selenium.webdriver.support.ui import Select\n",
    "from selenium.webdriver.support.ui import WebDriverWait\n",
    "driver = webdriver.Chrome()"
   ]
  },
  {
   "cell_type": "markdown",
   "metadata": {},
   "source": [
    "## Search for the TLDR Number `006179570C`, and scrape the information on that company\n",
    "\n",
    "Using [license information system](https://www.tdlr.texas.gov/tools_search/), find information about the tow truck number above, displaying the\n",
    "\n",
    "- The business name\n",
    "- Owner/operator\n",
    "- Phone number\n",
    "- License status (Active, Expired, Etc)\n",
    "- Physical address\n",
    "\n",
    "If you can't figure a 'nice' way to locate something, your two last options might be:\n",
    "\n",
    "- **Find a \"parent\" element, then dig inside**\n",
    "- **Find all of a type of element** (like we did with `td` before) and get the `[0]`, `[1]`, `[2]`, etc\n",
    "- **XPath** (inspect an element, Copy > Copy XPath)\n",
    "\n",
    "These kinds of techniques tend to break when you're on other result pages, but... maybe not! You won't know until you try.\n",
    "\n",
    "> - *TIP: When you use xpath, you CANNOT use double quotes or Python will get confused. Use single quotes.*\n",
    "> - *TIP: You can clean your data up if you want to, or leave it dirty to clean later*\n",
    "> - *TIP: The address part can be tough, but you have a few options. You can use a combination of `.split` and list slicing to clean it now, or clean it later in the dataframe with regular expressions. Or other options, too, probably*"
   ]
  },
  {
   "cell_type": "code",
   "execution_count": 3,
   "metadata": {},
   "outputs": [],
   "source": [
    "driver.get(\"https://www.tdlr.texas.gov/tools_search\")"
   ]
  },
  {
   "cell_type": "code",
   "execution_count": 4,
   "metadata": {},
   "outputs": [],
   "source": [
    "number = driver.find_element_by_id(\"mcrdata\")"
   ]
  },
  {
   "cell_type": "code",
   "execution_count": 5,
   "metadata": {},
   "outputs": [],
   "source": [
    "number.send_keys(\"006179570C\")\n",
    "search = driver.find_element_by_id (\"submit3\")\n",
    "search.click()"
   ]
  },
  {
   "cell_type": "code",
   "execution_count": 7,
   "metadata": {},
   "outputs": [],
   "source": [
    "cells = driver.find_elements_by_tag_name('td')\n",
    "name = cells[5].text\n",
    "owner = cells[7].text\n",
    "phone_number = cells[9].text\n",
    "license_status = cells[12].text\n",
    "listing=driver.find_element_by_xpath('//*[@id=\"t1\"]/tbody/tr/td/font/table[3]/tbody/tr[2]/td[2]').text\n",
    "physical_address=listing.split(\" \")[19:]"
   ]
  },
  {
   "cell_type": "markdown",
   "metadata": {},
   "source": [
    "# Adapt this to work inside of a single cell\n",
    "\n",
    "Double-check that it works. You want it to print out all of the details."
   ]
  },
  {
   "cell_type": "code",
   "execution_count": 172,
   "metadata": {},
   "outputs": [],
   "source": [
    "driver.get(\"https://www.tdlr.texas.gov/tools_search\")\n",
    "number = driver.find_element_by_id(\"mcrdata\")\n",
    "number.send_keys(\"006179570C\")\n",
    "search = driver.find_element_by_id (\"submit3\")\n",
    "search.click()\n",
    "cells = driver.find_elements_by_tag_name('td')\n",
    "name = cells[5].text\n",
    "owner = cells[7].text\n",
    "phone_number = cells[9].text\n",
    "license_status = cells[12].text\n",
    "listing = driver.find_element_by_xpath('//*[@id=\"t1\"]/tbody/tr/td/font/table[3]/tbody/tr[2]/td[2]').text\n",
    "physical_address=listing.split(\" \")[19:]\n"
   ]
  },
  {
   "cell_type": "markdown",
   "metadata": {},
   "source": [
    "# Using .apply to find data about SEVERAL tow truck companies\n",
    "\n",
    "The file `trucks-subset.csv` has information about the trucks, we'll use it to find the pages to scrape.\n",
    "\n",
    "### Open up `trucks-subset.csv` and save it into a dataframe"
   ]
  },
  {
   "cell_type": "code",
   "execution_count": 173,
   "metadata": {},
   "outputs": [],
   "source": [
    "import pandas as pd\n",
    "df=pd.read_csv('/Users/nickospi/Desktop/trucks-subset.csv')   "
   ]
  },
  {
   "cell_type": "markdown",
   "metadata": {},
   "source": [
    "## Go through each row of the dataset, displaying the URL you will need to scrape for the information on that row\n",
    "\n",
    "You don't have to actually use the search form for each of these - look at the URL you're on, it has the number in it!\n",
    "\n",
    "For example, one URL might look like `https://www.tdlr.texas.gov/tools_search/mccs_display.asp?mcrnumber=006495492C`.\n",
    "\n",
    "- *TIP: Use .apply and a function*\n",
    "- *TIP: Unlike the Yelp example, you'll need to build this URL from pieces*\n",
    "- *TIP: You probably don't want to `print` unless you're going to fix it for the next question \n",
    "- *TIP: pandas won't showing you the entire url! Run `pd.set_option('display.max_colwidth', -1)` to display aaaalll of the text in a cell*"
   ]
  },
  {
   "cell_type": "code",
   "execution_count": 174,
   "metadata": {},
   "outputs": [
    {
     "data": {
      "text/plain": [
       "0    006507931C\n",
       "1    006179570C\n",
       "2    006502097C\n",
       "Name: TDLR Number, dtype: object"
      ]
     },
     "execution_count": 174,
     "metadata": {},
     "output_type": "execute_result"
    }
   ],
   "source": [
    "pd.set_option('display.max_colwidth', -1)\n",
    "df['TDLR Number']"
   ]
  },
  {
   "cell_type": "code",
   "execution_count": 175,
   "metadata": {},
   "outputs": [],
   "source": [
    "def make_url (n):\n",
    "    return url+n"
   ]
  },
  {
   "cell_type": "code",
   "execution_count": 176,
   "metadata": {},
   "outputs": [],
   "source": [
    "for number in df['TDLR Number']:\n",
    "    n = number\n",
    "    url = 'https://www.tdlr.texas.gov/tools_search/mccs_display.asp?mcrnumber='\n"
   ]
  },
  {
   "cell_type": "code",
   "execution_count": 177,
   "metadata": {},
   "outputs": [
    {
     "data": {
      "text/plain": [
       "0    https://www.tdlr.texas.gov/tools_search/mccs_display.asp?mcrnumber=006507931C\n",
       "1    https://www.tdlr.texas.gov/tools_search/mccs_display.asp?mcrnumber=006179570C\n",
       "2    https://www.tdlr.texas.gov/tools_search/mccs_display.asp?mcrnumber=006502097C\n",
       "Name: TDLR Number, dtype: object"
      ]
     },
     "execution_count": 177,
     "metadata": {},
     "output_type": "execute_result"
    }
   ],
   "source": [
    "df['TDLR Number'].apply(make_url)"
   ]
  },
  {
   "cell_type": "markdown",
   "metadata": {},
   "source": [
    "### Save this URL into a new column of your dataframe, called `url`\n",
    "\n",
    "- *TIP: Use a function and `.apply`*\n",
    "- *TIP: Be sure to use `return`*"
   ]
  },
  {
   "cell_type": "code",
   "execution_count": 178,
   "metadata": {},
   "outputs": [
    {
     "data": {
      "text/html": [
       "<div>\n",
       "<style scoped>\n",
       "    .dataframe tbody tr th:only-of-type {\n",
       "        vertical-align: middle;\n",
       "    }\n",
       "\n",
       "    .dataframe tbody tr th {\n",
       "        vertical-align: top;\n",
       "    }\n",
       "\n",
       "    .dataframe thead th {\n",
       "        text-align: right;\n",
       "    }\n",
       "</style>\n",
       "<table border=\"1\" class=\"dataframe\">\n",
       "  <thead>\n",
       "    <tr style=\"text-align: right;\">\n",
       "      <th></th>\n",
       "      <th>TDLR Number</th>\n",
       "      <th>url</th>\n",
       "    </tr>\n",
       "  </thead>\n",
       "  <tbody>\n",
       "    <tr>\n",
       "      <th>0</th>\n",
       "      <td>006507931C</td>\n",
       "      <td>https://www.tdlr.texas.gov/tools_search/mccs_display.asp?mcrnumber=006507931C</td>\n",
       "    </tr>\n",
       "    <tr>\n",
       "      <th>1</th>\n",
       "      <td>006179570C</td>\n",
       "      <td>https://www.tdlr.texas.gov/tools_search/mccs_display.asp?mcrnumber=006179570C</td>\n",
       "    </tr>\n",
       "    <tr>\n",
       "      <th>2</th>\n",
       "      <td>006502097C</td>\n",
       "      <td>https://www.tdlr.texas.gov/tools_search/mccs_display.asp?mcrnumber=006502097C</td>\n",
       "    </tr>\n",
       "  </tbody>\n",
       "</table>\n",
       "</div>"
      ],
      "text/plain": [
       "  TDLR Number  \\\n",
       "0  006507931C   \n",
       "1  006179570C   \n",
       "2  006502097C   \n",
       "\n",
       "                                                                             url  \n",
       "0  https://www.tdlr.texas.gov/tools_search/mccs_display.asp?mcrnumber=006507931C  \n",
       "1  https://www.tdlr.texas.gov/tools_search/mccs_display.asp?mcrnumber=006179570C  \n",
       "2  https://www.tdlr.texas.gov/tools_search/mccs_display.asp?mcrnumber=006502097C  "
      ]
     },
     "execution_count": 178,
     "metadata": {},
     "output_type": "execute_result"
    }
   ],
   "source": [
    "df['url'] = df.apply(make_url) \n",
    "df"
   ]
  },
  {
   "cell_type": "markdown",
   "metadata": {},
   "source": [
    "## Go through each row of the dataset, printing out information about each tow truck company.\n",
    "\n",
    "Now will be **scraping** inside of your function.\n",
    "\n",
    "- The business name\n",
    "- Owner/operator\n",
    "- Phone number\n",
    "- License status (Active, Expired, Etc)\n",
    "- Physical address\n",
    "\n",
    "Just print it out for now.\n",
    "\n",
    "- *TIP: use .apply*\n",
    "- *TIP: You'll be using the code you wrote before, but converted into a function*\n",
    "- *TIP: Remember how the TDLR Number is in the URL? You don't need to do the form submission if you don't want!*\n",
    "- *TIP: Make sure you adjust any variables so you don't scrape the same page again and again*"
   ]
  },
  {
   "cell_type": "code",
   "execution_count": 1,
   "metadata": {},
   "outputs": [],
   "source": [
    "def get_tow_info(row):\n",
    "    driver.get(row['url'])\n",
    "    cells = driver.find_elements_by_tag_name('td')\n",
    "    name = cells[5].text.split()[1:]\n",
    "    owner = cells[7].text\n",
    "    phone_number = cells[9].text\n",
    "    license_status = cells[12].text\n",
    "    listing = driver.find_element_by_xpath('//*[@id=\"t1\"]/tbody/tr/td/font/table[3]/tbody/tr[2]/td[2]').text\n",
    "    physical_address=listing.split(\" \")[19:]   \n",
    "    return pd.Series({\n",
    "    'Name': name,\n",
    "    'Owner': owner,\n",
    "    'Phone_Number': phone_number,\n",
    "    'License_Status': license_status,\n",
    "    'Physical_address':physical_address\n",
    "})"
   ]
  },
  {
   "cell_type": "markdown",
   "metadata": {},
   "source": [
    "## Scrape the following information for each row of the dataset, and save it into new columns in your dataframe.\n",
    "\n",
    "- The business name\n",
    "- Owner/operator\n",
    "- Phone number\n",
    "- License status (Active, Expired, Etc)\n",
    "- Physical address\n",
    "\n",
    "It's basically what we did before, but using the function a little differently.\n",
    "\n",
    "- *TIP: Same as above, but you'll be returning a `pd.Series` and the `.apply` line is going to be a lot longer*\n",
    "- *TIP: Save it to a new dataframe!*\n",
    "- *TIP: Make sure you change your `df` variable names correctly if you're cutting and pasting - there are a few so it can get tricky*"
   ]
  },
  {
   "cell_type": "code",
   "execution_count": 204,
   "metadata": {},
   "outputs": [
    {
     "data": {
      "text/html": [
       "<div>\n",
       "<style scoped>\n",
       "    .dataframe tbody tr th:only-of-type {\n",
       "        vertical-align: middle;\n",
       "    }\n",
       "\n",
       "    .dataframe tbody tr th {\n",
       "        vertical-align: top;\n",
       "    }\n",
       "\n",
       "    .dataframe thead th {\n",
       "        text-align: right;\n",
       "    }\n",
       "</style>\n",
       "<table border=\"1\" class=\"dataframe\">\n",
       "  <thead>\n",
       "    <tr style=\"text-align: right;\">\n",
       "      <th></th>\n",
       "      <th>Name</th>\n",
       "      <th>Owner</th>\n",
       "      <th>Phone_Number</th>\n",
       "      <th>License_Status</th>\n",
       "      <th>Physical_address</th>\n",
       "      <th>TDLR Number</th>\n",
       "      <th>url</th>\n",
       "    </tr>\n",
       "  </thead>\n",
       "  <tbody>\n",
       "    <tr>\n",
       "      <th>0</th>\n",
       "      <td>[AUGUSTUS, E, SMITH]</td>\n",
       "      <td>Owner/Officer:   AUGUSTUS EUGENE SMITH / OWNER</td>\n",
       "      <td>Phone:   9032276464</td>\n",
       "      <td>Status:  Active</td>\n",
       "      <td>[N, MAIN, ST\\nBONHAM,, TX., 75418]</td>\n",
       "      <td>006507931C</td>\n",
       "      <td>https://www.tdlr.texas.gov/tools_search/mccs_display.asp?mcrnumber=006507931C</td>\n",
       "    </tr>\n",
       "    <tr>\n",
       "      <th>1</th>\n",
       "      <td>[B.D., SMITH, TOWING]</td>\n",
       "      <td>Owner/Officer:   BRANDT SMITH / OWNER</td>\n",
       "      <td>Phone:   8173330706</td>\n",
       "      <td>Status:  Expired</td>\n",
       "      <td>[76179\\n\\nPhysical:\\n13619, BRETT, JACKSON, RD.\\nFORT, WORTH,, TX., 76179]</td>\n",
       "      <td>006179570C</td>\n",
       "      <td>https://www.tdlr.texas.gov/tools_search/mccs_display.asp?mcrnumber=006179570C</td>\n",
       "    </tr>\n",
       "    <tr>\n",
       "      <th>2</th>\n",
       "      <td>[BARRY, MICHAEL, SMITH]</td>\n",
       "      <td>Owner/Officer:   BARRY MICHAEL SMITH / OWNER</td>\n",
       "      <td>Phone:   8066544404</td>\n",
       "      <td>Status:  Active</td>\n",
       "      <td>[W, CEMETERY, RD\\nCANYON,, TX., 79015]</td>\n",
       "      <td>006502097C</td>\n",
       "      <td>https://www.tdlr.texas.gov/tools_search/mccs_display.asp?mcrnumber=006502097C</td>\n",
       "    </tr>\n",
       "  </tbody>\n",
       "</table>\n",
       "</div>"
      ],
      "text/plain": [
       "                      Name                                           Owner  \\\n",
       "0  [AUGUSTUS, E, SMITH]     Owner/Officer:   AUGUSTUS EUGENE SMITH / OWNER   \n",
       "1  [B.D., SMITH, TOWING]    Owner/Officer:   BRANDT SMITH / OWNER            \n",
       "2  [BARRY, MICHAEL, SMITH]  Owner/Officer:   BARRY MICHAEL SMITH / OWNER     \n",
       "\n",
       "          Phone_Number    License_Status  \\\n",
       "0  Phone:   9032276464  Status:  Active    \n",
       "1  Phone:   8173330706  Status:  Expired   \n",
       "2  Phone:   8066544404  Status:  Active    \n",
       "\n",
       "                                                             Physical_address  \\\n",
       "0  [N, MAIN, ST\\nBONHAM,, TX., 75418]                                           \n",
       "1  [76179\\n\\nPhysical:\\n13619, BRETT, JACKSON, RD.\\nFORT, WORTH,, TX., 76179]   \n",
       "2  [W, CEMETERY, RD\\nCANYON,, TX., 79015]                                       \n",
       "\n",
       "  TDLR Number  \\\n",
       "0  006507931C   \n",
       "1  006179570C   \n",
       "2  006502097C   \n",
       "\n",
       "                                                                             url  \n",
       "0  https://www.tdlr.texas.gov/tools_search/mccs_display.asp?mcrnumber=006507931C  \n",
       "1  https://www.tdlr.texas.gov/tools_search/mccs_display.asp?mcrnumber=006179570C  \n",
       "2  https://www.tdlr.texas.gov/tools_search/mccs_display.asp?mcrnumber=006502097C  "
      ]
     },
     "execution_count": 204,
     "metadata": {},
     "output_type": "execute_result"
    }
   ],
   "source": [
    "driver = webdriver.Chrome()\n",
    "new_df = df.apply(get_tow_info, axis=1).join(df)\n",
    "new_df.head()"
   ]
  },
  {
   "cell_type": "markdown",
   "metadata": {},
   "source": [
    "### Save your dataframe as a CSV named `tow-trucks-extended.csv`"
   ]
  },
  {
   "cell_type": "code",
   "execution_count": 205,
   "metadata": {},
   "outputs": [],
   "source": [
    "new_df.to_csv(\"tow-trucks-extended.csv\", index = False)"
   ]
  },
  {
   "cell_type": "markdown",
   "metadata": {},
   "source": [
    "### Re-open your dataframe to confirm you didn't save any extra weird columns"
   ]
  },
  {
   "cell_type": "code",
   "execution_count": 206,
   "metadata": {},
   "outputs": [
    {
     "data": {
      "text/html": [
       "<div>\n",
       "<style scoped>\n",
       "    .dataframe tbody tr th:only-of-type {\n",
       "        vertical-align: middle;\n",
       "    }\n",
       "\n",
       "    .dataframe tbody tr th {\n",
       "        vertical-align: top;\n",
       "    }\n",
       "\n",
       "    .dataframe thead th {\n",
       "        text-align: right;\n",
       "    }\n",
       "</style>\n",
       "<table border=\"1\" class=\"dataframe\">\n",
       "  <thead>\n",
       "    <tr style=\"text-align: right;\">\n",
       "      <th></th>\n",
       "      <th>Name</th>\n",
       "      <th>Owner</th>\n",
       "      <th>Phone_Number</th>\n",
       "      <th>License_Status</th>\n",
       "      <th>Physical_address</th>\n",
       "      <th>TDLR Number</th>\n",
       "      <th>url</th>\n",
       "    </tr>\n",
       "  </thead>\n",
       "  <tbody>\n",
       "    <tr>\n",
       "      <th>0</th>\n",
       "      <td>['AUGUSTUS', 'E', 'SMITH']</td>\n",
       "      <td>Owner/Officer:   AUGUSTUS EUGENE SMITH / OWNER</td>\n",
       "      <td>Phone:   9032276464</td>\n",
       "      <td>Status:  Active</td>\n",
       "      <td>['N', 'MAIN', 'ST\\nBONHAM,', 'TX.', '75418']</td>\n",
       "      <td>006507931C</td>\n",
       "      <td>https://www.tdlr.texas.gov/tools_search/mccs_display.asp?mcrnumber=006507931C</td>\n",
       "    </tr>\n",
       "    <tr>\n",
       "      <th>1</th>\n",
       "      <td>['B.D.', 'SMITH', 'TOWING']</td>\n",
       "      <td>Owner/Officer:   BRANDT SMITH / OWNER</td>\n",
       "      <td>Phone:   8173330706</td>\n",
       "      <td>Status:  Expired</td>\n",
       "      <td>['76179\\n\\nPhysical:\\n13619', 'BRETT', 'JACKSON', 'RD.\\nFORT', 'WORTH,', 'TX.', '76179']</td>\n",
       "      <td>006179570C</td>\n",
       "      <td>https://www.tdlr.texas.gov/tools_search/mccs_display.asp?mcrnumber=006179570C</td>\n",
       "    </tr>\n",
       "    <tr>\n",
       "      <th>2</th>\n",
       "      <td>['BARRY', 'MICHAEL', 'SMITH']</td>\n",
       "      <td>Owner/Officer:   BARRY MICHAEL SMITH / OWNER</td>\n",
       "      <td>Phone:   8066544404</td>\n",
       "      <td>Status:  Active</td>\n",
       "      <td>['W', 'CEMETERY', 'RD\\nCANYON,', 'TX.', '79015']</td>\n",
       "      <td>006502097C</td>\n",
       "      <td>https://www.tdlr.texas.gov/tools_search/mccs_display.asp?mcrnumber=006502097C</td>\n",
       "    </tr>\n",
       "  </tbody>\n",
       "</table>\n",
       "</div>"
      ],
      "text/plain": [
       "                            Name  \\\n",
       "0  ['AUGUSTUS', 'E', 'SMITH']      \n",
       "1  ['B.D.', 'SMITH', 'TOWING']     \n",
       "2  ['BARRY', 'MICHAEL', 'SMITH']   \n",
       "\n",
       "                                            Owner         Phone_Number  \\\n",
       "0  Owner/Officer:   AUGUSTUS EUGENE SMITH / OWNER  Phone:   9032276464   \n",
       "1  Owner/Officer:   BRANDT SMITH / OWNER           Phone:   8173330706   \n",
       "2  Owner/Officer:   BARRY MICHAEL SMITH / OWNER    Phone:   8066544404   \n",
       "\n",
       "     License_Status  \\\n",
       "0  Status:  Active    \n",
       "1  Status:  Expired   \n",
       "2  Status:  Active    \n",
       "\n",
       "                                                                           Physical_address  \\\n",
       "0  ['N', 'MAIN', 'ST\\nBONHAM,', 'TX.', '75418']                                               \n",
       "1  ['76179\\n\\nPhysical:\\n13619', 'BRETT', 'JACKSON', 'RD.\\nFORT', 'WORTH,', 'TX.', '76179']   \n",
       "2  ['W', 'CEMETERY', 'RD\\nCANYON,', 'TX.', '79015']                                           \n",
       "\n",
       "  TDLR Number  \\\n",
       "0  006507931C   \n",
       "1  006179570C   \n",
       "2  006502097C   \n",
       "\n",
       "                                                                             url  \n",
       "0  https://www.tdlr.texas.gov/tools_search/mccs_display.asp?mcrnumber=006507931C  \n",
       "1  https://www.tdlr.texas.gov/tools_search/mccs_display.asp?mcrnumber=006179570C  \n",
       "2  https://www.tdlr.texas.gov/tools_search/mccs_display.asp?mcrnumber=006502097C  "
      ]
     },
     "execution_count": 206,
     "metadata": {},
     "output_type": "execute_result"
    }
   ],
   "source": [
    "pd.read_csv('/Users/nickospi/Desktop/tow-trucks-extended.csv')"
   ]
  },
  {
   "cell_type": "markdown",
   "metadata": {},
   "source": [
    "## Process the entire `tow-trucks.csv` file\n",
    "\n",
    "We just did it on a short subset so far. Now try it on all of the tow trucks. **Save as the same filename as before**"
   ]
  },
  {
   "cell_type": "code",
   "execution_count": 207,
   "metadata": {},
   "outputs": [],
   "source": [
    "full_df=pd.read_csv('/Users/nickospi/Desktop/tow-trucks.csv')   "
   ]
  },
  {
   "cell_type": "code",
   "execution_count": 208,
   "metadata": {},
   "outputs": [
    {
     "data": {
      "text/plain": [
       "0     https://www.tdlr.texas.gov/tools_search/mccs_display.asp?mcrnumber=006507931C\n",
       "1     https://www.tdlr.texas.gov/tools_search/mccs_display.asp?mcrnumber=006179570C\n",
       "2     https://www.tdlr.texas.gov/tools_search/mccs_display.asp?mcrnumber=006502097C\n",
       "3     https://www.tdlr.texas.gov/tools_search/mccs_display.asp?mcrnumber=006494912C\n",
       "4     https://www.tdlr.texas.gov/tools_search/mccs_display.asp?mcrnumber=0649468VSF\n",
       "5     https://www.tdlr.texas.gov/tools_search/mccs_display.asp?mcrnumber=006448786C\n",
       "6     https://www.tdlr.texas.gov/tools_search/mccs_display.asp?mcrnumber=0648444VSF\n",
       "7     https://www.tdlr.texas.gov/tools_search/mccs_display.asp?mcrnumber=0651667VSF\n",
       "8     https://www.tdlr.texas.gov/tools_search/mccs_display.asp?mcrnumber=006017767C\n",
       "9     https://www.tdlr.texas.gov/tools_search/mccs_display.asp?mcrnumber=006495492C\n",
       "10    https://www.tdlr.texas.gov/tools_search/mccs_display.asp?mcrnumber=006518521C\n",
       "11    https://www.tdlr.texas.gov/tools_search/mccs_display.asp?mcrnumber=006521662C\n",
       "12    https://www.tdlr.texas.gov/tools_search/mccs_display.asp?mcrnumber=006482451C\n",
       "13    https://www.tdlr.texas.gov/tools_search/mccs_display.asp?mcrnumber=0646264VSF\n",
       "14    https://www.tdlr.texas.gov/tools_search/mccs_display.asp?mcrnumber=0650690VSF\n",
       "15    https://www.tdlr.texas.gov/tools_search/mccs_display.asp?mcrnumber=006505010C\n",
       "16    https://www.tdlr.texas.gov/tools_search/mccs_display.asp?mcrnumber=0000210VSF\n",
       "17    https://www.tdlr.texas.gov/tools_search/mccs_display.asp?mcrnumber=005029369C\n",
       "18    https://www.tdlr.texas.gov/tools_search/mccs_display.asp?mcrnumber=006410509C\n",
       "19    https://www.tdlr.texas.gov/tools_search/mccs_display.asp?mcrnumber=0643482VSF\n",
       "Name: TDLR Number, dtype: object"
      ]
     },
     "execution_count": 208,
     "metadata": {},
     "output_type": "execute_result"
    }
   ],
   "source": [
    "full_df['TDLR Number'].apply(make_url)"
   ]
  },
  {
   "cell_type": "code",
   "execution_count": 209,
   "metadata": {},
   "outputs": [
    {
     "data": {
      "text/html": [
       "<div>\n",
       "<style scoped>\n",
       "    .dataframe tbody tr th:only-of-type {\n",
       "        vertical-align: middle;\n",
       "    }\n",
       "\n",
       "    .dataframe tbody tr th {\n",
       "        vertical-align: top;\n",
       "    }\n",
       "\n",
       "    .dataframe thead th {\n",
       "        text-align: right;\n",
       "    }\n",
       "</style>\n",
       "<table border=\"1\" class=\"dataframe\">\n",
       "  <thead>\n",
       "    <tr style=\"text-align: right;\">\n",
       "      <th></th>\n",
       "      <th>TDLR Number</th>\n",
       "      <th>url</th>\n",
       "    </tr>\n",
       "  </thead>\n",
       "  <tbody>\n",
       "    <tr>\n",
       "      <th>0</th>\n",
       "      <td>006507931C</td>\n",
       "      <td>https://www.tdlr.texas.gov/tools_search/mccs_display.asp?mcrnumber=006507931C</td>\n",
       "    </tr>\n",
       "    <tr>\n",
       "      <th>1</th>\n",
       "      <td>006179570C</td>\n",
       "      <td>https://www.tdlr.texas.gov/tools_search/mccs_display.asp?mcrnumber=006179570C</td>\n",
       "    </tr>\n",
       "    <tr>\n",
       "      <th>2</th>\n",
       "      <td>006502097C</td>\n",
       "      <td>https://www.tdlr.texas.gov/tools_search/mccs_display.asp?mcrnumber=006502097C</td>\n",
       "    </tr>\n",
       "    <tr>\n",
       "      <th>3</th>\n",
       "      <td>006494912C</td>\n",
       "      <td>https://www.tdlr.texas.gov/tools_search/mccs_display.asp?mcrnumber=006494912C</td>\n",
       "    </tr>\n",
       "    <tr>\n",
       "      <th>4</th>\n",
       "      <td>0649468VSF</td>\n",
       "      <td>https://www.tdlr.texas.gov/tools_search/mccs_display.asp?mcrnumber=0649468VSF</td>\n",
       "    </tr>\n",
       "    <tr>\n",
       "      <th>5</th>\n",
       "      <td>006448786C</td>\n",
       "      <td>https://www.tdlr.texas.gov/tools_search/mccs_display.asp?mcrnumber=006448786C</td>\n",
       "    </tr>\n",
       "    <tr>\n",
       "      <th>6</th>\n",
       "      <td>0648444VSF</td>\n",
       "      <td>https://www.tdlr.texas.gov/tools_search/mccs_display.asp?mcrnumber=0648444VSF</td>\n",
       "    </tr>\n",
       "    <tr>\n",
       "      <th>7</th>\n",
       "      <td>0651667VSF</td>\n",
       "      <td>https://www.tdlr.texas.gov/tools_search/mccs_display.asp?mcrnumber=0651667VSF</td>\n",
       "    </tr>\n",
       "    <tr>\n",
       "      <th>8</th>\n",
       "      <td>006017767C</td>\n",
       "      <td>https://www.tdlr.texas.gov/tools_search/mccs_display.asp?mcrnumber=006017767C</td>\n",
       "    </tr>\n",
       "    <tr>\n",
       "      <th>9</th>\n",
       "      <td>006495492C</td>\n",
       "      <td>https://www.tdlr.texas.gov/tools_search/mccs_display.asp?mcrnumber=006495492C</td>\n",
       "    </tr>\n",
       "    <tr>\n",
       "      <th>10</th>\n",
       "      <td>006518521C</td>\n",
       "      <td>https://www.tdlr.texas.gov/tools_search/mccs_display.asp?mcrnumber=006518521C</td>\n",
       "    </tr>\n",
       "    <tr>\n",
       "      <th>11</th>\n",
       "      <td>006521662C</td>\n",
       "      <td>https://www.tdlr.texas.gov/tools_search/mccs_display.asp?mcrnumber=006521662C</td>\n",
       "    </tr>\n",
       "    <tr>\n",
       "      <th>12</th>\n",
       "      <td>006482451C</td>\n",
       "      <td>https://www.tdlr.texas.gov/tools_search/mccs_display.asp?mcrnumber=006482451C</td>\n",
       "    </tr>\n",
       "    <tr>\n",
       "      <th>13</th>\n",
       "      <td>0646264VSF</td>\n",
       "      <td>https://www.tdlr.texas.gov/tools_search/mccs_display.asp?mcrnumber=0646264VSF</td>\n",
       "    </tr>\n",
       "    <tr>\n",
       "      <th>14</th>\n",
       "      <td>0650690VSF</td>\n",
       "      <td>https://www.tdlr.texas.gov/tools_search/mccs_display.asp?mcrnumber=0650690VSF</td>\n",
       "    </tr>\n",
       "    <tr>\n",
       "      <th>15</th>\n",
       "      <td>006505010C</td>\n",
       "      <td>https://www.tdlr.texas.gov/tools_search/mccs_display.asp?mcrnumber=006505010C</td>\n",
       "    </tr>\n",
       "    <tr>\n",
       "      <th>16</th>\n",
       "      <td>0000210VSF</td>\n",
       "      <td>https://www.tdlr.texas.gov/tools_search/mccs_display.asp?mcrnumber=0000210VSF</td>\n",
       "    </tr>\n",
       "    <tr>\n",
       "      <th>17</th>\n",
       "      <td>005029369C</td>\n",
       "      <td>https://www.tdlr.texas.gov/tools_search/mccs_display.asp?mcrnumber=005029369C</td>\n",
       "    </tr>\n",
       "    <tr>\n",
       "      <th>18</th>\n",
       "      <td>006410509C</td>\n",
       "      <td>https://www.tdlr.texas.gov/tools_search/mccs_display.asp?mcrnumber=006410509C</td>\n",
       "    </tr>\n",
       "    <tr>\n",
       "      <th>19</th>\n",
       "      <td>0643482VSF</td>\n",
       "      <td>https://www.tdlr.texas.gov/tools_search/mccs_display.asp?mcrnumber=0643482VSF</td>\n",
       "    </tr>\n",
       "  </tbody>\n",
       "</table>\n",
       "</div>"
      ],
      "text/plain": [
       "   TDLR Number  \\\n",
       "0   006507931C   \n",
       "1   006179570C   \n",
       "2   006502097C   \n",
       "3   006494912C   \n",
       "4   0649468VSF   \n",
       "5   006448786C   \n",
       "6   0648444VSF   \n",
       "7   0651667VSF   \n",
       "8   006017767C   \n",
       "9   006495492C   \n",
       "10  006518521C   \n",
       "11  006521662C   \n",
       "12  006482451C   \n",
       "13  0646264VSF   \n",
       "14  0650690VSF   \n",
       "15  006505010C   \n",
       "16  0000210VSF   \n",
       "17  005029369C   \n",
       "18  006410509C   \n",
       "19  0643482VSF   \n",
       "\n",
       "                                                                              url  \n",
       "0   https://www.tdlr.texas.gov/tools_search/mccs_display.asp?mcrnumber=006507931C  \n",
       "1   https://www.tdlr.texas.gov/tools_search/mccs_display.asp?mcrnumber=006179570C  \n",
       "2   https://www.tdlr.texas.gov/tools_search/mccs_display.asp?mcrnumber=006502097C  \n",
       "3   https://www.tdlr.texas.gov/tools_search/mccs_display.asp?mcrnumber=006494912C  \n",
       "4   https://www.tdlr.texas.gov/tools_search/mccs_display.asp?mcrnumber=0649468VSF  \n",
       "5   https://www.tdlr.texas.gov/tools_search/mccs_display.asp?mcrnumber=006448786C  \n",
       "6   https://www.tdlr.texas.gov/tools_search/mccs_display.asp?mcrnumber=0648444VSF  \n",
       "7   https://www.tdlr.texas.gov/tools_search/mccs_display.asp?mcrnumber=0651667VSF  \n",
       "8   https://www.tdlr.texas.gov/tools_search/mccs_display.asp?mcrnumber=006017767C  \n",
       "9   https://www.tdlr.texas.gov/tools_search/mccs_display.asp?mcrnumber=006495492C  \n",
       "10  https://www.tdlr.texas.gov/tools_search/mccs_display.asp?mcrnumber=006518521C  \n",
       "11  https://www.tdlr.texas.gov/tools_search/mccs_display.asp?mcrnumber=006521662C  \n",
       "12  https://www.tdlr.texas.gov/tools_search/mccs_display.asp?mcrnumber=006482451C  \n",
       "13  https://www.tdlr.texas.gov/tools_search/mccs_display.asp?mcrnumber=0646264VSF  \n",
       "14  https://www.tdlr.texas.gov/tools_search/mccs_display.asp?mcrnumber=0650690VSF  \n",
       "15  https://www.tdlr.texas.gov/tools_search/mccs_display.asp?mcrnumber=006505010C  \n",
       "16  https://www.tdlr.texas.gov/tools_search/mccs_display.asp?mcrnumber=0000210VSF  \n",
       "17  https://www.tdlr.texas.gov/tools_search/mccs_display.asp?mcrnumber=005029369C  \n",
       "18  https://www.tdlr.texas.gov/tools_search/mccs_display.asp?mcrnumber=006410509C  \n",
       "19  https://www.tdlr.texas.gov/tools_search/mccs_display.asp?mcrnumber=0643482VSF  "
      ]
     },
     "execution_count": 209,
     "metadata": {},
     "output_type": "execute_result"
    }
   ],
   "source": [
    "full_df['url'] = full_df.apply(make_url) \n",
    "full_df"
   ]
  },
  {
   "cell_type": "code",
   "execution_count": 210,
   "metadata": {},
   "outputs": [],
   "source": [
    "def get_tow_info(row):\n",
    "    driver.get(row['url'])\n",
    "    cells = driver.find_elements_by_tag_name('td')\n",
    "    name = cells[5].text.split()[1:]\n",
    "    owner = cells[7].text\n",
    "    phone_number = cells[9].text\n",
    "    license_status = cells[12].text\n",
    "    listing = driver.find_element_by_xpath('//*[@id=\"t1\"]/tbody/tr/td/font/table[3]/tbody/tr[2]/td[2]').text\n",
    "    physical_address=listing.split(\" \")[19:]   \n",
    "    return pd.Series({\n",
    "    'Name': name,\n",
    "    'Owner': owner,\n",
    "    'Phone_Number': phone_number,\n",
    "    'License_Status': license_status,\n",
    "    'Physical_address':physical_address\n",
    "})"
   ]
  },
  {
   "cell_type": "code",
   "execution_count": 211,
   "metadata": {},
   "outputs": [
    {
     "data": {
      "text/html": [
       "<div>\n",
       "<style scoped>\n",
       "    .dataframe tbody tr th:only-of-type {\n",
       "        vertical-align: middle;\n",
       "    }\n",
       "\n",
       "    .dataframe tbody tr th {\n",
       "        vertical-align: top;\n",
       "    }\n",
       "\n",
       "    .dataframe thead th {\n",
       "        text-align: right;\n",
       "    }\n",
       "</style>\n",
       "<table border=\"1\" class=\"dataframe\">\n",
       "  <thead>\n",
       "    <tr style=\"text-align: right;\">\n",
       "      <th></th>\n",
       "      <th>Name</th>\n",
       "      <th>Owner</th>\n",
       "      <th>Phone_Number</th>\n",
       "      <th>License_Status</th>\n",
       "      <th>Physical_address</th>\n",
       "      <th>TDLR Number</th>\n",
       "      <th>url</th>\n",
       "    </tr>\n",
       "  </thead>\n",
       "  <tbody>\n",
       "    <tr>\n",
       "      <th>0</th>\n",
       "      <td>[AUGUSTUS, E, SMITH]</td>\n",
       "      <td>Owner/Officer:   AUGUSTUS EUGENE SMITH / OWNER</td>\n",
       "      <td>Phone:   9032276464</td>\n",
       "      <td>Status:  Active</td>\n",
       "      <td>[N, MAIN, ST\\nBONHAM,, TX., 75418]</td>\n",
       "      <td>006507931C</td>\n",
       "      <td>https://www.tdlr.texas.gov/tools_search/mccs_display.asp?mcrnumber=006507931C</td>\n",
       "    </tr>\n",
       "    <tr>\n",
       "      <th>1</th>\n",
       "      <td>[B.D., SMITH, TOWING]</td>\n",
       "      <td>Owner/Officer:   BRANDT SMITH / OWNER</td>\n",
       "      <td>Phone:   8173330706</td>\n",
       "      <td>Status:  Expired</td>\n",
       "      <td>[76179\\n\\nPhysical:\\n13619, BRETT, JACKSON, RD.\\nFORT, WORTH,, TX., 76179]</td>\n",
       "      <td>006179570C</td>\n",
       "      <td>https://www.tdlr.texas.gov/tools_search/mccs_display.asp?mcrnumber=006179570C</td>\n",
       "    </tr>\n",
       "    <tr>\n",
       "      <th>2</th>\n",
       "      <td>[BARRY, MICHAEL, SMITH]</td>\n",
       "      <td>Owner/Officer:   BARRY MICHAEL SMITH / OWNER</td>\n",
       "      <td>Phone:   8066544404</td>\n",
       "      <td>Status:  Active</td>\n",
       "      <td>[W, CEMETERY, RD\\nCANYON,, TX., 79015]</td>\n",
       "      <td>006502097C</td>\n",
       "      <td>https://www.tdlr.texas.gov/tools_search/mccs_display.asp?mcrnumber=006502097C</td>\n",
       "    </tr>\n",
       "    <tr>\n",
       "      <th>3</th>\n",
       "      <td>[HEATH, SMITH]</td>\n",
       "      <td>Owner/Officer:   HEATH A SMITH / OWNER</td>\n",
       "      <td>Phone:   940-552-0687</td>\n",
       "      <td>Status:  Expired</td>\n",
       "      <td>[ST\\nVERNON,, TX., 76384]</td>\n",
       "      <td>006494912C</td>\n",
       "      <td>https://www.tdlr.texas.gov/tools_search/mccs_display.asp?mcrnumber=006494912C</td>\n",
       "    </tr>\n",
       "    <tr>\n",
       "      <th>4</th>\n",
       "      <td>[HEATH, SMITH]</td>\n",
       "      <td>Owner/Officer:   HEATH A SMITH / OWNER</td>\n",
       "      <td>Phone:   9405520687</td>\n",
       "      <td>Status:  Expired</td>\n",
       "      <td>[]</td>\n",
       "      <td>0649468VSF</td>\n",
       "      <td>https://www.tdlr.texas.gov/tools_search/mccs_display.asp?mcrnumber=0649468VSF</td>\n",
       "    </tr>\n",
       "  </tbody>\n",
       "</table>\n",
       "</div>"
      ],
      "text/plain": [
       "                      Name                                           Owner  \\\n",
       "0  [AUGUSTUS, E, SMITH]     Owner/Officer:   AUGUSTUS EUGENE SMITH / OWNER   \n",
       "1  [B.D., SMITH, TOWING]    Owner/Officer:   BRANDT SMITH / OWNER            \n",
       "2  [BARRY, MICHAEL, SMITH]  Owner/Officer:   BARRY MICHAEL SMITH / OWNER     \n",
       "3  [HEATH, SMITH]           Owner/Officer:   HEATH A SMITH / OWNER           \n",
       "4  [HEATH, SMITH]           Owner/Officer:   HEATH A SMITH / OWNER           \n",
       "\n",
       "            Phone_Number    License_Status  \\\n",
       "0  Phone:   9032276464    Status:  Active    \n",
       "1  Phone:   8173330706    Status:  Expired   \n",
       "2  Phone:   8066544404    Status:  Active    \n",
       "3  Phone:   940-552-0687  Status:  Expired   \n",
       "4  Phone:   9405520687    Status:  Expired   \n",
       "\n",
       "                                                             Physical_address  \\\n",
       "0  [N, MAIN, ST\\nBONHAM,, TX., 75418]                                           \n",
       "1  [76179\\n\\nPhysical:\\n13619, BRETT, JACKSON, RD.\\nFORT, WORTH,, TX., 76179]   \n",
       "2  [W, CEMETERY, RD\\nCANYON,, TX., 79015]                                       \n",
       "3  [ST\\nVERNON,, TX., 76384]                                                    \n",
       "4  []                                                                           \n",
       "\n",
       "  TDLR Number  \\\n",
       "0  006507931C   \n",
       "1  006179570C   \n",
       "2  006502097C   \n",
       "3  006494912C   \n",
       "4  0649468VSF   \n",
       "\n",
       "                                                                             url  \n",
       "0  https://www.tdlr.texas.gov/tools_search/mccs_display.asp?mcrnumber=006507931C  \n",
       "1  https://www.tdlr.texas.gov/tools_search/mccs_display.asp?mcrnumber=006179570C  \n",
       "2  https://www.tdlr.texas.gov/tools_search/mccs_display.asp?mcrnumber=006502097C  \n",
       "3  https://www.tdlr.texas.gov/tools_search/mccs_display.asp?mcrnumber=006494912C  \n",
       "4  https://www.tdlr.texas.gov/tools_search/mccs_display.asp?mcrnumber=0649468VSF  "
      ]
     },
     "execution_count": 211,
     "metadata": {},
     "output_type": "execute_result"
    }
   ],
   "source": [
    "driver = webdriver.Chrome()\n",
    "full_df = full_df.apply(get_tow_info, axis=1).join(full_df)\n",
    "full_df.head()"
   ]
  },
  {
   "cell_type": "code",
   "execution_count": 215,
   "metadata": {},
   "outputs": [],
   "source": [
    "full_df.to_csv(\"tow-trucks-extended.csv\", index = False)"
   ]
  },
  {
   "cell_type": "code",
   "execution_count": null,
   "metadata": {},
   "outputs": [],
   "source": []
  }
 ],
 "metadata": {
  "kernelspec": {
   "display_name": "Python 3",
   "language": "python",
   "name": "python3"
  },
  "language_info": {
   "codemirror_mode": {
    "name": "ipython",
    "version": 3
   },
   "file_extension": ".py",
   "mimetype": "text/x-python",
   "name": "python",
   "nbconvert_exporter": "python",
   "pygments_lexer": "ipython3",
   "version": "3.6.5"
  }
 },
 "nbformat": 4,
 "nbformat_minor": 2
}
